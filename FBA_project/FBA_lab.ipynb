{
 "cells": [
  {
   "cell_type": "code",
   "execution_count": 1,
   "metadata": {},
   "outputs": [],
   "source": [
    "import cobra\n",
    "import numpy as np"
   ]
  },
  {
   "cell_type": "code",
   "execution_count": 2,
   "metadata": {},
   "outputs": [],
   "source": [
    "modelo=cobra.io.read_sbml_model(\"./iSB619.xml\")"
   ]
  },
  {
   "cell_type": "code",
   "execution_count": null,
   "metadata": {
    "scrolled": true
   },
   "outputs": [],
   "source": [
    "modelo"
   ]
  },
  {
   "cell_type": "code",
   "execution_count": 3,
   "metadata": {},
   "outputs": [],
   "source": [
    "n=len(modelo.reactions)\n",
    "m=len(modelo.metabolites)"
   ]
  },
  {
   "cell_type": "code",
   "execution_count": 4,
   "metadata": {},
   "outputs": [
    {
     "data": {
      "text/plain": [
       "{'c': 'cytosol', 'e': 'extracellular space'}"
      ]
     },
     "execution_count": 4,
     "metadata": {},
     "output_type": "execute_result"
    }
   ],
   "source": [
    "modelo.compartments"
   ]
  },
  {
   "cell_type": "code",
   "execution_count": 5,
   "metadata": {},
   "outputs": [
    {
     "data": {
      "text/plain": [
       "array([[0., 0., 0., ..., 0., 0., 0.],\n",
       "       [0., 0., 0., ..., 0., 0., 0.],\n",
       "       [0., 0., 0., ..., 0., 0., 0.],\n",
       "       ...,\n",
       "       [0., 0., 0., ..., 0., 0., 0.],\n",
       "       [0., 0., 0., ..., 0., 0., 0.],\n",
       "       [0., 0., 0., ..., 0., 0., 0.]])"
      ]
     },
     "execution_count": 5,
     "metadata": {},
     "output_type": "execute_result"
    }
   ],
   "source": [
    "S=cobra.util.array.create_stoichiometric_matrix(modelo, 'dense');S"
   ]
  },
  {
   "cell_type": "code",
   "execution_count": null,
   "metadata": {},
   "outputs": [],
   "source": [
    "len(S)*len(S[0])"
   ]
  },
  {
   "cell_type": "code",
   "execution_count": null,
   "metadata": {},
   "outputs": [],
   "source": [
    "cont=0\n",
    "for m in modelo.metabolites:\n",
    "    if m.compartment=='c':\n",
    "        print(m.id)\n",
    "        cont+=1\n",
    "print(\"Hay\",cont)"
   ]
  },
  {
   "cell_type": "code",
   "execution_count": null,
   "metadata": {},
   "outputs": [],
   "source": [
    "cont=0\n",
    "for m in modelo.metabolites:\n",
    "    if m.compartment=='e':\n",
    "        print(m.id)\n",
    "        cont+=1\n",
    "print(\"Hay\",cont)"
   ]
  },
  {
   "cell_type": "code",
   "execution_count": null,
   "metadata": {},
   "outputs": [],
   "source": [
    "cont=0\n",
    "for r in modelo.reactions:\n",
    "    if \"EX_\" in r.id:\n",
    "        print(r.id,r)\n",
    "        cont+=1\n",
    "print(\"Hay\",cont)"
   ]
  },
  {
   "cell_type": "code",
   "execution_count": null,
   "metadata": {},
   "outputs": [],
   "source": [
    "reversibles=[]\n",
    "irreversibles=[]\n",
    "for i in range(len(modelo.reactions)):\n",
    "    r=modelo.reactions[i]\n",
    "    if r.lower_bound*r.upper_bound<0:\n",
    "        reversibles.append(i)\n",
    "    else:\n",
    "        irreversibles.append(i)\n",
    "print(\"Hay\",len(reversibles),\"reversibles y\",len(irreversibles),\"irreversibles\")"
   ]
  },
  {
   "cell_type": "code",
   "execution_count": null,
   "metadata": {},
   "outputs": [],
   "source": [
    "internas=[]\n",
    "for i in range(len(S)):\n",
    "    fila=S[i]\n",
    "    pos=False\n",
    "    neg=False\n",
    "    for j in range(len(fila)):\n",
    "        r=modelo.reactions[j]\n",
    "        if not fila[j]==0 :\n",
    "            if j in reversibles:\n",
    "                pos=True\n",
    "                neg=True\n",
    "            elif  r.lower_bound>=0:\n",
    "                if fila[j]>0:\n",
    "                    pos=True\n",
    "                else:\n",
    "                    neg=True\n",
    "            else:\n",
    "                if fila[j]>0:\n",
    "                    neg=True\n",
    "                else:\n",
    "                    pos=True\n",
    "        if pos and neg:\n",
    "            internas.append(i)\n",
    "            break\n",
    "externas=set(range(len(modelo.metabolites))).difference(set(internas))\n",
    "externas=list(externas)\n",
    "externas.sort()\n",
    "print(len(internas),len(externas))\n",
    "for m in externas:\n",
    "    print(m,modelo.metabolites[m].id)"
   ]
  },
  {
   "cell_type": "code",
   "execution_count": null,
   "metadata": {},
   "outputs": [],
   "source": [
    "solucion=modelo.optimize()"
   ]
  },
  {
   "cell_type": "code",
   "execution_count": null,
   "metadata": {},
   "outputs": [],
   "source": [
    "soporte=[]\n",
    "for j in range(n):\n",
    "    r=modelo.reactions[j].id\n",
    "    if abs(solucion.fluxes[r])>10**-12:\n",
    "        soporte.append(j)\n",
    "noSoporte=set(range(n)).difference(set(soporte))\n",
    "noSoporte=list(noSoporte)\n",
    "noSoporte.sort()\n",
    "print(soporte)"
   ]
  },
  {
   "cell_type": "code",
   "execution_count": null,
   "metadata": {},
   "outputs": [],
   "source": [
    "print(\"hay\",len(modelo.metabolites),\"metabolitos, por tanto hay\",len(modelo.constraints),\"restricciones\")"
   ]
  },
  {
   "cell_type": "code",
   "execution_count": null,
   "metadata": {},
   "outputs": [],
   "source": [
    "for j in range(n):\n",
    "    r=modelo.reactions[j]\n",
    "    if r.lower_bound*r.upper_bound>0:\n",
    "        print(j,r.id,r.lower_bound,r.upper_bound)"
   ]
  },
  {
   "cell_type": "code",
   "execution_count": null,
   "metadata": {},
   "outputs": [],
   "source": [
    "bloqueadas=set()\n",
    "with modelo:\n",
    "    coefficients = dict()\n",
    "    r=modelo.reactions.get_by_id(\"EX_glc__D_e\")\n",
    "    coefficients[r.forward_variable] = 1\n",
    "    constraint = modelo.problem.Constraint(0, lb=1, ub=1)\n",
    "    modelo.add_cons_vars(constraint)\n",
    "    modelo.solver.update()\n",
    "    constraint.set_linear_coefficients(coefficients=coefficients)\n",
    "    for i in range(len(modelo.reactions)):\n",
    "        modelo.objective=modelo.reactions[i]\n",
    "        sol1=modelo.optimize(objective_sense=\"minimize\")\n",
    "        sol2=modelo.optimize(objective_sense=\"maximize\")\n",
    "        print(i,modelo.reactions[i].id,modelo.reactions[i].reversibility,sol1.objective_value,sol2.objective_value)\n",
    "        if sol1.objective_value==0 and sol2.objective_value==0:\n",
    "            bloqueadas.add(i)"
   ]
  },
  {
   "cell_type": "code",
   "execution_count": null,
   "metadata": {},
   "outputs": [],
   "source": [
    "print(\"Hay\",len(bloqueadas),\"reacciones bloqueadas\")\n",
    "val={}\n",
    "for j in bloqueadas:\n",
    "    r=modelo.reactions[j].id\n",
    "    val[r]=1"
   ]
  },
  {
   "cell_type": "code",
   "execution_count": null,
   "metadata": {},
   "outputs": [],
   "source": [
    "val={}\n",
    "direcciones={}\n",
    "with modelo:\n",
    "    coefficients = dict()\n",
    "    r=modelo.reactions.get_by_id(\"EX_glc__D_e\")\n",
    "    coefficients[r.forward_variable] = 1\n",
    "    constraint = modelo.problem.Constraint(0, lb=1, ub=1)\n",
    "    modelo.add_cons_vars(constraint)\n",
    "    modelo.solver.update()\n",
    "    constraint.set_linear_coefficients(coefficients=coefficients)\n",
    "    for i in range(n):\n",
    "        r=modelo.reactions[i]\n",
    "        modelo.objective=modelo.reactions[i]\n",
    "        sol1=modelo.optimize(objective_sense=\"minimize\")\n",
    "        sol2=modelo.optimize(objective_sense=\"maximize\")\n",
    "        if r.reversibility:\n",
    "            if sol1.objective_value<0 and sol2.objective_value<=0:\n",
    "                val[r.id]=-1\n",
    "                direcciones[i]=-1\n",
    "            elif sol1.objective_value>=0 and sol2.objective_value>0:\n",
    "                val[r.id]=1\n",
    "                direcciones[i]=1\n",
    "            else:\n",
    "                val[r.id]=0\n",
    "                direcciones[i]=0\n",
    "        else:\n",
    "            if sol1.objective_value<0 and sol2.objective_value<=0:\n",
    "                direcciones[i]=-1\n",
    "            elif sol1.objective_value>=0 and sol2.objective_value>0:\n",
    "                direcciones[i]=1\n",
    "            else:\n",
    "                direcciones[i]=0"
   ]
  },
  {
   "cell_type": "code",
   "execution_count": null,
   "metadata": {},
   "outputs": [],
   "source": [
    "implicaciones={}\n",
    "for i in range(n):  \n",
    "    if not i in bloqueadas:\n",
    "        mias=set()\n",
    "        for j in range(n):\n",
    "            with modelo as modelo2:\n",
    "                r=modelo2.reactions[i]\n",
    "                if not i==j:\n",
    "                    if direcciones[i]==1:\n",
    "                        r.lower_bound=0.1\n",
    "                        r2=modelo2.reactions[j]\n",
    "                        r2.lower_bound=0\n",
    "                        r2.upper_bound=0\n",
    "                        sol=modelo2.optimize(objective_sense=\"minimize\")\n",
    "                        if sol.status==\"infeasible\":\n",
    "                            mias.add(j)\n",
    "                    if direcciones[i]==-1:\n",
    "                        r.upper_bound=-0.1\n",
    "                        r2=modelo2.reactions[j]\n",
    "                        r2.lower_bound=0\n",
    "                        r2.upper_bound=0\n",
    "                        sol=modelo2.optimize(objective_sense=\"minimize\")\n",
    "                        if sol.status==\"infeasible\":\n",
    "                            mias.add(j)\n",
    "                    if direcciones[i]==0:\n",
    "                        a=r.lower_bound\n",
    "                        r.lower_bound=0.1\n",
    "                        r2=modelo2.reactions[j]\n",
    "                        r2.lower_bound=0\n",
    "                        r2.upper_bound=0\n",
    "                        sol1=modelo2.optimize()\n",
    "                        r.upper_bound=-0.1\n",
    "                        r.lower_bound=a\n",
    "                        r2=modelo2.reactions[j]\n",
    "                        r2.lower_bound=0\n",
    "                        r2.upper_bound=0\n",
    "                        sol2=modelo2.optimize()\n",
    "                        if sol1.status==\"infeasible\" and sol2.status==\"infeasible\":\n",
    "                            mias.add(j)\n",
    "        implicaciones[i]=mias\n",
    "\n",
    "        print(implicaciones)"
   ]
  },
  {
   "cell_type": "code",
   "execution_count": null,
   "metadata": {},
   "outputs": [],
   "source": [
    "equivalencias=set()\n",
    "for i in range(n):\n",
    "    if not i in bloqueadas:\n",
    "        for j in range(n):\n",
    "            if not j in bloqueadas:\n",
    "                if j in implicaciones[i] and i in implicaciones[j]:\n",
    "                    equivalencias.add(frozenset([i,j]))\n",
    "print(equivalencias)"
   ]
  },
  {
   "cell_type": "code",
   "execution_count": 6,
   "metadata": {},
   "outputs": [],
   "source": [
    "def check(flujos,S):\n",
    "    modo=[flujos[r] for r in flujos.keys()]\n",
    "    e=10**-6\n",
    "    sop=[j for j in range(len(modo)) if abs(modo[j])>10**-8]\n",
    "    noSop=[j for j in range(len(modo)) if abs(modo[j])<=10**-8]\n",
    "    val=np.dot(S,modo)\n",
    "    if min(val)<-e or max(val)>e:\n",
    "        print(\"Sv no vale 0\")\n",
    "        return False\n",
    "    for j in range(len(modo)):\n",
    "        r=modelo.reactions[j]\n",
    "        if modo[j]<r.lower_bound or modo[j]>r.upper_bound:\n",
    "            print(\"v no cumple v_i entre su maximo y minimo\")\n",
    "            print(\"Reaccion\",j,r.id, \"con valor\",modo[j],\"no entre\",r.lower_bound,r.upper_bound)\n",
    "            return False\n",
    "    S2=np.delete(S,noSop,1)\n",
    "    if not (len(sop)==np.linalg.matrix_rank(S2)+1):\n",
    "        print(\"rango\",np.linalg.matrix_rank(S2),len(sop))\n",
    "        return False\n",
    "    return True"
   ]
  },
  {
   "cell_type": "code",
   "execution_count": 7,
   "metadata": {},
   "outputs": [],
   "source": [
    "solucion=modelo.optimize(objective_sense=\"minimize\")\n",
    "flujos=solucion.fluxes"
   ]
  },
  {
   "cell_type": "code",
   "execution_count": 8,
   "metadata": {},
   "outputs": [
    {
     "ename": "ValueError",
     "evalue": "zero-size array to reduction operation maximum which has no identity",
     "output_type": "error",
     "traceback": [
      "\u001b[0;31m---------------------------------------------------------------------------\u001b[0m",
      "\u001b[0;31mValueError\u001b[0m                                Traceback (most recent call last)",
      "\u001b[0;32m<ipython-input-8-beec4b2653c6>\u001b[0m in \u001b[0;36m<module>\u001b[0;34m\u001b[0m\n\u001b[0;32m----> 1\u001b[0;31m \u001b[0mcheck\u001b[0m\u001b[0;34m(\u001b[0m\u001b[0mflujos\u001b[0m\u001b[0;34m,\u001b[0m\u001b[0mS\u001b[0m\u001b[0;34m)\u001b[0m\u001b[0;34m\u001b[0m\u001b[0;34m\u001b[0m\u001b[0m\n\u001b[0m",
      "\u001b[0;32m<ipython-input-6-3c60eb0ade3a>\u001b[0m in \u001b[0;36mcheck\u001b[0;34m(flujos, S)\u001b[0m\n\u001b[1;32m     15\u001b[0m             \u001b[0;32mreturn\u001b[0m \u001b[0;32mFalse\u001b[0m\u001b[0;34m\u001b[0m\u001b[0;34m\u001b[0m\u001b[0m\n\u001b[1;32m     16\u001b[0m     \u001b[0mS2\u001b[0m\u001b[0;34m=\u001b[0m\u001b[0mnp\u001b[0m\u001b[0;34m.\u001b[0m\u001b[0mdelete\u001b[0m\u001b[0;34m(\u001b[0m\u001b[0mS\u001b[0m\u001b[0;34m,\u001b[0m\u001b[0mnoSop\u001b[0m\u001b[0;34m,\u001b[0m\u001b[0;36m1\u001b[0m\u001b[0;34m)\u001b[0m\u001b[0;34m\u001b[0m\u001b[0;34m\u001b[0m\u001b[0m\n\u001b[0;32m---> 17\u001b[0;31m     \u001b[0;32mif\u001b[0m \u001b[0;32mnot\u001b[0m \u001b[0;34m(\u001b[0m\u001b[0mlen\u001b[0m\u001b[0;34m(\u001b[0m\u001b[0msop\u001b[0m\u001b[0;34m)\u001b[0m\u001b[0;34m==\u001b[0m\u001b[0mnp\u001b[0m\u001b[0;34m.\u001b[0m\u001b[0mlinalg\u001b[0m\u001b[0;34m.\u001b[0m\u001b[0mmatrix_rank\u001b[0m\u001b[0;34m(\u001b[0m\u001b[0mS2\u001b[0m\u001b[0;34m)\u001b[0m\u001b[0;34m+\u001b[0m\u001b[0;36m1\u001b[0m\u001b[0;34m)\u001b[0m\u001b[0;34m:\u001b[0m\u001b[0;34m\u001b[0m\u001b[0;34m\u001b[0m\u001b[0m\n\u001b[0m\u001b[1;32m     18\u001b[0m         \u001b[0mprint\u001b[0m\u001b[0;34m(\u001b[0m\u001b[0;34m\"rango\"\u001b[0m\u001b[0;34m,\u001b[0m\u001b[0mnp\u001b[0m\u001b[0;34m.\u001b[0m\u001b[0mlinalg\u001b[0m\u001b[0;34m.\u001b[0m\u001b[0mmatrix_rank\u001b[0m\u001b[0;34m(\u001b[0m\u001b[0mS2\u001b[0m\u001b[0;34m)\u001b[0m\u001b[0;34m,\u001b[0m\u001b[0mlen\u001b[0m\u001b[0;34m(\u001b[0m\u001b[0msop\u001b[0m\u001b[0;34m)\u001b[0m\u001b[0;34m)\u001b[0m\u001b[0;34m\u001b[0m\u001b[0;34m\u001b[0m\u001b[0m\n\u001b[1;32m     19\u001b[0m         \u001b[0;32mreturn\u001b[0m \u001b[0;32mFalse\u001b[0m\u001b[0;34m\u001b[0m\u001b[0;34m\u001b[0m\u001b[0m\n",
      "\u001b[0;32m<__array_function__ internals>\u001b[0m in \u001b[0;36mmatrix_rank\u001b[0;34m(*args, **kwargs)\u001b[0m\n",
      "\u001b[0;32m/usr/local/lib64/python3.6/site-packages/numpy/linalg/linalg.py\u001b[0m in \u001b[0;36mmatrix_rank\u001b[0;34m(M, tol, hermitian)\u001b[0m\n\u001b[1;32m   1902\u001b[0m     \u001b[0mS\u001b[0m \u001b[0;34m=\u001b[0m \u001b[0msvd\u001b[0m\u001b[0;34m(\u001b[0m\u001b[0mM\u001b[0m\u001b[0;34m,\u001b[0m \u001b[0mcompute_uv\u001b[0m\u001b[0;34m=\u001b[0m\u001b[0;32mFalse\u001b[0m\u001b[0;34m,\u001b[0m \u001b[0mhermitian\u001b[0m\u001b[0;34m=\u001b[0m\u001b[0mhermitian\u001b[0m\u001b[0;34m)\u001b[0m\u001b[0;34m\u001b[0m\u001b[0;34m\u001b[0m\u001b[0m\n\u001b[1;32m   1903\u001b[0m     \u001b[0;32mif\u001b[0m \u001b[0mtol\u001b[0m \u001b[0;32mis\u001b[0m \u001b[0;32mNone\u001b[0m\u001b[0;34m:\u001b[0m\u001b[0;34m\u001b[0m\u001b[0;34m\u001b[0m\u001b[0m\n\u001b[0;32m-> 1904\u001b[0;31m         \u001b[0mtol\u001b[0m \u001b[0;34m=\u001b[0m \u001b[0mS\u001b[0m\u001b[0;34m.\u001b[0m\u001b[0mmax\u001b[0m\u001b[0;34m(\u001b[0m\u001b[0maxis\u001b[0m\u001b[0;34m=\u001b[0m\u001b[0;34m-\u001b[0m\u001b[0;36m1\u001b[0m\u001b[0;34m,\u001b[0m \u001b[0mkeepdims\u001b[0m\u001b[0;34m=\u001b[0m\u001b[0;32mTrue\u001b[0m\u001b[0;34m)\u001b[0m \u001b[0;34m*\u001b[0m \u001b[0mmax\u001b[0m\u001b[0;34m(\u001b[0m\u001b[0mM\u001b[0m\u001b[0;34m.\u001b[0m\u001b[0mshape\u001b[0m\u001b[0;34m[\u001b[0m\u001b[0;34m-\u001b[0m\u001b[0;36m2\u001b[0m\u001b[0;34m:\u001b[0m\u001b[0;34m]\u001b[0m\u001b[0;34m)\u001b[0m \u001b[0;34m*\u001b[0m \u001b[0mfinfo\u001b[0m\u001b[0;34m(\u001b[0m\u001b[0mS\u001b[0m\u001b[0;34m.\u001b[0m\u001b[0mdtype\u001b[0m\u001b[0;34m)\u001b[0m\u001b[0;34m.\u001b[0m\u001b[0meps\u001b[0m\u001b[0;34m\u001b[0m\u001b[0;34m\u001b[0m\u001b[0m\n\u001b[0m\u001b[1;32m   1905\u001b[0m     \u001b[0;32melse\u001b[0m\u001b[0;34m:\u001b[0m\u001b[0;34m\u001b[0m\u001b[0;34m\u001b[0m\u001b[0m\n\u001b[1;32m   1906\u001b[0m         \u001b[0mtol\u001b[0m \u001b[0;34m=\u001b[0m \u001b[0masarray\u001b[0m\u001b[0;34m(\u001b[0m\u001b[0mtol\u001b[0m\u001b[0;34m)\u001b[0m\u001b[0;34m[\u001b[0m\u001b[0;34m...\u001b[0m\u001b[0;34m,\u001b[0m \u001b[0mnewaxis\u001b[0m\u001b[0;34m]\u001b[0m\u001b[0;34m\u001b[0m\u001b[0;34m\u001b[0m\u001b[0m\n",
      "\u001b[0;32m/usr/local/lib64/python3.6/site-packages/numpy/core/_methods.py\u001b[0m in \u001b[0;36m_amax\u001b[0;34m(a, axis, out, keepdims, initial, where)\u001b[0m\n\u001b[1;32m     37\u001b[0m def _amax(a, axis=None, out=None, keepdims=False,\n\u001b[1;32m     38\u001b[0m           initial=_NoValue, where=True):\n\u001b[0;32m---> 39\u001b[0;31m     \u001b[0;32mreturn\u001b[0m \u001b[0mumr_maximum\u001b[0m\u001b[0;34m(\u001b[0m\u001b[0ma\u001b[0m\u001b[0;34m,\u001b[0m \u001b[0maxis\u001b[0m\u001b[0;34m,\u001b[0m \u001b[0;32mNone\u001b[0m\u001b[0;34m,\u001b[0m \u001b[0mout\u001b[0m\u001b[0;34m,\u001b[0m \u001b[0mkeepdims\u001b[0m\u001b[0;34m,\u001b[0m \u001b[0minitial\u001b[0m\u001b[0;34m,\u001b[0m \u001b[0mwhere\u001b[0m\u001b[0;34m)\u001b[0m\u001b[0;34m\u001b[0m\u001b[0;34m\u001b[0m\u001b[0m\n\u001b[0m\u001b[1;32m     40\u001b[0m \u001b[0;34m\u001b[0m\u001b[0m\n\u001b[1;32m     41\u001b[0m def _amin(a, axis=None, out=None, keepdims=False,\n",
      "\u001b[0;31mValueError\u001b[0m: zero-size array to reduction operation maximum which has no identity"
     ]
    }
   ],
   "source": [
    "check(flujos,S)"
   ]
  },
  {
   "cell_type": "code",
   "execution_count": 10,
   "metadata": {},
   "outputs": [],
   "source": [
    "soportes=set()\n",
    "cont=0\n",
    "contFallos=0\n",
    "\n",
    "\n",
    "for i in range(n):\n",
    "    cont+=1\n",
    "    r=modelo.reactions[i]\n",
    "    modelo.objective=r\n",
    "    solucion=modelo.optimize(objective_sense=\"minimize\")\n",
    "    flujos=solucion.fluxes\n",
    "    if not True:\n",
    "        contFallos+=1\n",
    "    else:\n",
    "        modo=[flujos[r] for r in flujos.keys()]\n",
    "        sop=[j for j in range(len(modo)) if abs(modo[j])>10**-6]\n",
    "        if len(sop)>0 and not frozenset(sop) in soportes:\n",
    "            soportes.add(frozenset(sop))"
   ]
  },
  {
   "cell_type": "code",
   "execution_count": 11,
   "metadata": {},
   "outputs": [
    {
     "name": "stdout",
     "output_type": "stream",
     "text": [
      "743 131 0\n"
     ]
    }
   ],
   "source": [
    "print(cont,len(soportes),contFallos)"
   ]
  },
  {
   "cell_type": "code",
   "execution_count": 12,
   "metadata": {},
   "outputs": [],
   "source": [
    "import pickle\n",
    "\n",
    "with open(\"./soportes.txt\", 'wb') as filehandle:\n",
    "    pickle.dump(soportes, filehandle)"
   ]
  },
  {
   "cell_type": "code",
   "execution_count": null,
   "metadata": {},
   "outputs": [],
   "source": []
  }
 ],
 "metadata": {
  "kernelspec": {
   "display_name": "Python 3 (ipykernel)",
   "language": "python",
   "name": "python3"
  },
  "language_info": {
   "codemirror_mode": {
    "name": "ipython",
    "version": 3
   },
   "file_extension": ".py",
   "mimetype": "text/x-python",
   "name": "python",
   "nbconvert_exporter": "python",
   "pygments_lexer": "ipython3",
   "version": "3.9.10"
  }
 },
 "nbformat": 4,
 "nbformat_minor": 4
}
